{
  "nbformat": 4,
  "nbformat_minor": 0,
  "metadata": {
    "colab": {
      "provenance": [],
      "authorship_tag": "ABX9TyNlvvJDSaz7xnhZ5R7qDZ+/",
      "include_colab_link": true
    },
    "kernelspec": {
      "name": "python3",
      "display_name": "Python 3"
    },
    "language_info": {
      "name": "python"
    }
  },
  "cells": [
    {
      "cell_type": "markdown",
      "metadata": {
        "id": "view-in-github",
        "colab_type": "text"
      },
      "source": [
        "<a href=\"https://colab.research.google.com/github/it22258380/Robotics-and-intelligent-system/blob/main/RIS.ipynb\" target=\"_parent\"><img src=\"https://colab.research.google.com/assets/colab-badge.svg\" alt=\"Open In Colab\"/></a>"
      ]
    },
    {
      "cell_type": "code",
      "source": [
        "import numpy as np"
      ],
      "metadata": {
        "id": "TmfVNkG3-1NM"
      },
      "execution_count": null,
      "outputs": []
    },
    {
      "cell_type": "code",
      "source": [
        "import matplotlib.pyplot as plt"
      ],
      "metadata": {
        "id": "xC9bJ_P6-mEM"
      },
      "execution_count": null,
      "outputs": []
    },
    {
      "cell_type": "code",
      "source": [
        "def plotRobotArms(Theta, Links):\n",
        "  Theta1 = Theta[0]\n",
        "  Theta2 = Theta[1]\n",
        "  Theta3 = Theta[1]\n",
        "  X1 = np.array([0, Links[0] * np.cos(Theta1)])\n",
        "  Y1 = np.array([0, Links[0] * np.sin(Theta1)])\n",
        "  X2 = np.array([X1[1], X1[1] + Links[1] * np.cos(Theta1 + Theta2)])\n",
        "  Y2 = np.array([Y1[1], Y1[1] + Links[1] * np.sin(Theta1 + Theta2)])\n",
        "  X3 = np.array([X2[1], X2[1] + Links[2] * np.cos(Theta1 + Theta2 + Theta3)])\n",
        "  Y3 = np.array([Y2[1], Y2[1] + Links[2] * np.sin(Theta1 + Theta2 + Theta3)])\n",
        "  plt.plot(X1, Y1,'go-', linewidth=2)\n",
        "  plt.plot(X2, Y2, 'ro-', linewidth=2)\n",
        "  plt.plot(X3, Y3, 'o-', linewidth=2)\n",
        "  plt.axis('equal')\n",
        "  plt.grid(True)\n",
        "  plt.show()"
      ],
      "metadata": {
        "id": "laGhVMVq-4zW"
      },
      "execution_count": null,
      "outputs": []
    },
    {
      "cell_type": "code",
      "source": [
        "theta = np.radians([30, 30, 15])\n",
        "links = [1,2,3]\n",
        "plotRobotArms(theta, links)"
      ],
      "metadata": {
        "colab": {
          "base_uri": "https://localhost:8080/",
          "height": 430
        },
        "id": "Yd0SVHRU-7y1",
        "outputId": "95b6fd88-ed0d-4008-d727-8fe0c33d66f2"
      },
      "execution_count": null,
      "outputs": [
        {
          "output_type": "display_data",
          "data": {
            "text/plain": [
              "<Figure size 640x480 with 1 Axes>"
            ],
            "image/png": "[encoded data removed]"
          },
          "metadata": {}
        }
      ]
    },
    {
      "cell_type": "code",
      "source": [],
      "metadata": {
        "id": "nTxna6n1_jyW"
      },
      "execution_count": null,
      "outputs": []
    }
  ]
}